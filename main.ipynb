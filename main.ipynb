{
 "cells": [
  {
   "cell_type": "code",
   "id": "initial_id",
   "metadata": {
    "collapsed": true,
    "ExecuteTime": {
     "end_time": "2024-11-25T14:55:09.409139Z",
     "start_time": "2024-11-25T14:55:08.392089Z"
    }
   },
   "source": "%pip install -r requirements.txt",
   "outputs": [
    {
     "name": "stdout",
     "output_type": "stream",
     "text": [
      "Defaulting to user installation because normal site-packages is not writeable\r\n",
      "Requirement already satisfied: openai in /home/tp/.local/lib/python3.10/site-packages (from -r requirements.txt (line 1)) (1.55.0)\r\n",
      "Requirement already satisfied: json_repair in /home/tp/.local/lib/python3.10/site-packages (from -r requirements.txt (line 2)) (0.30.2)\r\n",
      "Requirement already satisfied: nltk in /home/tp/.local/lib/python3.10/site-packages (from -r requirements.txt (line 3)) (3.9.1)\r\n",
      "Requirement already satisfied: pandas in /home/tp/.local/lib/python3.10/site-packages (from -r requirements.txt (line 4)) (2.2.3)\r\n",
      "Requirement already satisfied: anyio<5,>=3.5.0 in /home/tp/.local/lib/python3.10/site-packages (from openai->-r requirements.txt (line 1)) (4.6.2.post1)\r\n",
      "Requirement already satisfied: distro<2,>=1.7.0 in /usr/lib/python3/dist-packages (from openai->-r requirements.txt (line 1)) (1.7.0)\r\n",
      "Requirement already satisfied: httpx<1,>=0.23.0 in /home/tp/.local/lib/python3.10/site-packages (from openai->-r requirements.txt (line 1)) (0.27.2)\r\n",
      "Requirement already satisfied: jiter<1,>=0.4.0 in /home/tp/.local/lib/python3.10/site-packages (from openai->-r requirements.txt (line 1)) (0.7.1)\r\n",
      "Requirement already satisfied: pydantic<3,>=1.9.0 in /home/tp/.local/lib/python3.10/site-packages (from openai->-r requirements.txt (line 1)) (2.10.1)\r\n",
      "Requirement already satisfied: sniffio in /home/tp/.local/lib/python3.10/site-packages (from openai->-r requirements.txt (line 1)) (1.3.1)\r\n",
      "Requirement already satisfied: tqdm>4 in /home/tp/.local/lib/python3.10/site-packages (from openai->-r requirements.txt (line 1)) (4.67.1)\r\n",
      "Requirement already satisfied: typing-extensions<5,>=4.11 in /home/tp/.local/lib/python3.10/site-packages (from openai->-r requirements.txt (line 1)) (4.12.2)\r\n",
      "Requirement already satisfied: click in /usr/lib/python3/dist-packages (from nltk->-r requirements.txt (line 3)) (8.0.3)\r\n",
      "Requirement already satisfied: joblib in /home/tp/.local/lib/python3.10/site-packages (from nltk->-r requirements.txt (line 3)) (1.4.2)\r\n",
      "Requirement already satisfied: regex>=2021.8.3 in /home/tp/.local/lib/python3.10/site-packages (from nltk->-r requirements.txt (line 3)) (2024.11.6)\r\n",
      "Requirement already satisfied: numpy>=1.22.4 in /home/tp/.local/lib/python3.10/site-packages (from pandas->-r requirements.txt (line 4)) (2.1.3)\r\n",
      "Requirement already satisfied: python-dateutil>=2.8.2 in /home/tp/.local/lib/python3.10/site-packages (from pandas->-r requirements.txt (line 4)) (2.9.0.post0)\r\n",
      "Requirement already satisfied: pytz>=2020.1 in /usr/lib/python3/dist-packages (from pandas->-r requirements.txt (line 4)) (2022.1)\r\n",
      "Requirement already satisfied: tzdata>=2022.7 in /home/tp/.local/lib/python3.10/site-packages (from pandas->-r requirements.txt (line 4)) (2024.2)\r\n",
      "Requirement already satisfied: idna>=2.8 in /usr/lib/python3/dist-packages (from anyio<5,>=3.5.0->openai->-r requirements.txt (line 1)) (3.3)\r\n",
      "Requirement already satisfied: exceptiongroup>=1.0.2 in /home/tp/.local/lib/python3.10/site-packages (from anyio<5,>=3.5.0->openai->-r requirements.txt (line 1)) (1.2.2)\r\n",
      "Requirement already satisfied: certifi in /usr/lib/python3/dist-packages (from httpx<1,>=0.23.0->openai->-r requirements.txt (line 1)) (2020.6.20)\r\n",
      "Requirement already satisfied: httpcore==1.* in /home/tp/.local/lib/python3.10/site-packages (from httpx<1,>=0.23.0->openai->-r requirements.txt (line 1)) (1.0.7)\r\n",
      "Requirement already satisfied: h11<0.15,>=0.13 in /home/tp/.local/lib/python3.10/site-packages (from httpcore==1.*->httpx<1,>=0.23.0->openai->-r requirements.txt (line 1)) (0.14.0)\r\n",
      "Requirement already satisfied: annotated-types>=0.6.0 in /home/tp/.local/lib/python3.10/site-packages (from pydantic<3,>=1.9.0->openai->-r requirements.txt (line 1)) (0.7.0)\r\n",
      "Requirement already satisfied: pydantic-core==2.27.1 in /home/tp/.local/lib/python3.10/site-packages (from pydantic<3,>=1.9.0->openai->-r requirements.txt (line 1)) (2.27.1)\r\n",
      "Requirement already satisfied: six>=1.5 in /usr/lib/python3/dist-packages (from python-dateutil>=2.8.2->pandas->-r requirements.txt (line 4)) (1.16.0)\r\n",
      "Note: you may need to restart the kernel to use updated packages.\n"
     ]
    }
   ],
   "execution_count": 1
  },
  {
   "metadata": {
    "ExecuteTime": {
     "end_time": "2024-11-25T14:55:40.305584Z",
     "start_time": "2024-11-25T14:55:39.695603Z"
    }
   },
   "cell_type": "code",
   "source": [
    "from openai import OpenAI\n",
    "from json import loads as json_loads\n",
    "from json_repair import repair_json\n",
    "from itertools import combinations\n",
    "\n",
    "from nltk import download as nltk_download\n",
    "nltk_download('punkt')\n",
    "nltk_download('punkt_tab')\n",
    "nltk_download('rslp')\n",
    "\n",
    "from nltk import sent_tokenize as break_into_sentences\n",
    "from nltk.stem import RSLPStemmer as stemmer\n",
    "\n",
    "from re import search as re_search\n",
    "import pandas as pd\n",
    "\n",
    "import logging\n",
    "import functools"
   ],
   "id": "7ef4803f59affc69",
   "outputs": [
    {
     "name": "stderr",
     "output_type": "stream",
     "text": [
      "[nltk_data] Downloading package punkt to /home/tp/nltk_data...\n",
      "[nltk_data]   Package punkt is already up-to-date!\n",
      "[nltk_data] Downloading package punkt_tab to /home/tp/nltk_data...\n",
      "[nltk_data]   Package punkt_tab is already up-to-date!\n",
      "[nltk_data] Downloading package rslp to /home/tp/nltk_data...\n",
      "[nltk_data]   Package rslp is already up-to-date!\n"
     ]
    }
   ],
   "execution_count": 2
  },
  {
   "metadata": {},
   "cell_type": "code",
   "source": [
    "llm_client = OpenAI(\n",
    "  api_key=\"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\",\n",
    "  base_url=\"https://integrate.api.nvidia.com/v1\"\n",
    ")\n",
    "MODEL = \"meta/llama-3.1-405b-instruct\""
   ],
   "id": "c6b67fdab9a09604",
   "outputs": [],
   "execution_count": null
  },
  {
   "metadata": {
    "ExecuteTime": {
     "end_time": "2024-11-25T14:56:32.676571Z",
     "start_time": "2024-11-25T14:56:32.636040Z"
    }
   },
   "cell_type": "code",
   "outputs": [],
   "execution_count": 3,
   "source": [
    "@functools.cache\n",
    "def llm_inference(system_prompt:str, user_prompt:str):\n",
    "    completion = llm_client.chat.completions.create(\n",
    "        model=MODEL,\n",
    "        messages=[\n",
    "            {\"role\":\"system\",\"content\":system_prompt},\n",
    "            {\"role\":\"user\",\"content\":user_prompt}\n",
    "        ],\n",
    "        temperature=0.7,\n",
    "        top_p=0.7,\n",
    "        max_tokens=2048,\n",
    "        stream=False\n",
    "    )\n",
    "    \n",
    "    return completion.choices[0].message.content"
   ],
   "id": "7fcb9509469f405e"
  }
 ],
 "metadata": {
  "kernelspec": {
   "display_name": "Python 3",
   "language": "python",
   "name": "python3"
  },
  "language_info": {
   "codemirror_mode": {
    "name": "ipython",
    "version": 2
   },
   "file_extension": ".py",
   "mimetype": "text/x-python",
   "name": "python",
   "nbconvert_exporter": "python",
   "pygments_lexer": "ipython2",
   "version": "2.7.6"
  }
 },
 "nbformat": 4,
 "nbformat_minor": 5
}
