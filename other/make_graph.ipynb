{
 "cells": [
  {
   "cell_type": "code",
   "execution_count": 6,
   "metadata": {},
   "outputs": [],
   "source": [
    "import pandas as pd\n",
    "from random import choices\n",
    "\n",
    "df = pd.read_csv(\"metro_sp.csv\").drop_duplicates()\n",
    "df.to_csv(\"metro_sp.csv\", index=False)"
   ]
  },
  {
   "cell_type": "code",
   "execution_count": 7,
   "metadata": {},
   "outputs": [],
   "source": [
    "nodes = pd.concat([df['origin'], df['destination']]).unique()"
   ]
  },
  {
   "cell_type": "code",
   "execution_count": 8,
   "metadata": {},
   "outputs": [],
   "source": [
    "#G1\n",
    "\n",
    "eliminate = choices(nodes, k=20)\n",
    "cleaned = df.drop(df[(df['origin'].isin(eliminate)) | (df['destination'].isin(eliminate))].index)\n",
    "cleaned.to_csv(\"metro_sp_g1.csv\", index=False)"
   ]
  },
  {
   "cell_type": "code",
   "execution_count": 9,
   "metadata": {},
   "outputs": [],
   "source": [
    "#G1\n",
    "\n",
    "eliminate = choices(nodes, k=20)\n",
    "cleaned = df.drop(df[(df['origin'].isin(eliminate)) | (df['destination'].isin(eliminate))].index)\n",
    "cleaned.to_csv(\"metro_sp_g2.csv\", index=False)"
   ]
  },
  {
   "cell_type": "code",
   "execution_count": 10,
   "metadata": {},
   "outputs": [],
   "source": [
    "df.join(cleaned, how='left', rsuffix='_cleaned').apply(lambda x: not pd.isna(x[\"line_cleaned\"]), axis=1).to_csv(\"metro_sp_cmp.csv\", index=False)"
   ]
  }
 ],
 "metadata": {
  "kernelspec": {
   "display_name": "ray",
   "language": "python",
   "name": "python3"
  },
  "language_info": {
   "codemirror_mode": {
    "name": "ipython",
    "version": 3
   },
   "file_extension": ".py",
   "mimetype": "text/x-python",
   "name": "python",
   "nbconvert_exporter": "python",
   "pygments_lexer": "ipython3",
   "version": "3.11.9"
  }
 },
 "nbformat": 4,
 "nbformat_minor": 2
}
